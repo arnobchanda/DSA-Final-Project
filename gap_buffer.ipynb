{
 "cells": [
  {
   "cell_type": "code",
   "execution_count": 2,
   "id": "0f6c2dae",
   "metadata": {},
   "outputs": [],
   "source": [
    "#-----------------------------------------------------------------------\n",
    "# Gapbuffer class\n",
    "#\n",
    "# Buffer size limit = 30\n",
    "# Buffer max gap size = 11\n",
    "# Buffer min gap size = 1\n",
    "# Buffer default gap start location = 0 \n",
    "# Gap is denoted using None type\n",
    "#-----------------------------------------------------------------------\n",
    "\n",
    "class gapbuffer:\n",
    "    \n",
    "    #-------------------------------------------------------------------\n",
    "    # Initialize buffer with the provided content.\n",
    "    #\n",
    "    # [  [gap] data ]\n",
    "    #\n",
    "    # Content can be a string\n",
    "    # Content is always appended after the gap during initialization\n",
    "    #-------------------------------------------------------------------\n",
    "    def __init__ (self, content):\n",
    "        self.limit = 30\n",
    "        self.gap_size = 11\n",
    "        self.content = [None] * self.gap_size\n",
    "        self.gap_start = 0\n",
    "        self.gap_end = self.gap_size\n",
    "        if (len(content) < self.limit):\n",
    "            for i in range(len(content)):\n",
    "                self.content.append(content[i]) \n",
    "            self.current_buffer_size = len(self.content)\n",
    "        else:\n",
    "            print(\"Cannot add more than 50 characters in this buffer\")  \n",
    "    \n",
    "    #-------------------------------------------------------------------\n",
    "    # Shows the content of the buffer\n",
    "    #-------------------------------------------------------------------\n",
    "    def show_buffer (self):\n",
    "        print(self.content)\n",
    "    \n",
    "    #-------------------------------------------------------------------\n",
    "    # Shows the information related to the buffer\n",
    "    #\n",
    "    # i.e gap start location, gap end location\n",
    "    # gap size and the current buffer size\n",
    "    #-------------------------------------------------------------------\n",
    "    def show_buffer_information(self):\n",
    "        print(\"Gap Start: {}\".format(self.gap_start))\n",
    "        print(\"Gap End: {}\".format(self.gap_end))\n",
    "        print(\"Gap Size: {}\".format(self.gap_size))\n",
    "        print(\"Current Buffer size: {}\".format(self.current_buffer_size))\n",
    "    \n",
    "    #-------------------------------------------------------------------\n",
    "    # Moves the gap left by one position\n",
    "    #\n",
    "    # If the move is successfull return 0\n",
    "    # If the move is not possible in case where gap is already at the\n",
    "    # leftmost position return 1\n",
    "    #-------------------------------------------------------------------\n",
    "    def move_gap_left_by_one(self):\n",
    "        if self.gap_start != 0:\n",
    "            item_number_to_pop = self.gap_start - 1\n",
    "            item = self.content[item_number_to_pop]\n",
    "            \n",
    "            item_number_to_place = (self.gap_start + self.gap_size) - 1\n",
    "            self.content.pop(item_number_to_pop)\n",
    "            self.content.insert(item_number_to_place, item)\n",
    "            \n",
    "            self.gap_start = item_number_to_pop\n",
    "            self.gap_end = item_number_to_place\n",
    "            return 0\n",
    "        else:\n",
    "            # print(\"Gap is at the leftmost position\")\n",
    "            return 1\n",
    "    \n",
    "    #-------------------------------------------------------------------\n",
    "    # Moves the gap right by one position\n",
    "    #\n",
    "    # If the move is successfull return 0\n",
    "    # If move is not possible in case where gap is already at the\n",
    "    # rightmost position return 1\n",
    "    #-------------------------------------------------------------------\n",
    "    def move_gap_right_by_one(self):\n",
    "        if self.gap_end != self.current_buffer_size:\n",
    "            item_number_to_pop = self.gap_end\n",
    "            item = self.content[item_number_to_pop]\n",
    "            \n",
    "            item_number_to_place = self.gap_start\n",
    "            self.content.pop(item_number_to_pop)\n",
    "            self.content.insert(item_number_to_place, item)\n",
    "            \n",
    "            self.gap_start = item_number_to_place + 1\n",
    "            self.gap_end = item_number_to_pop + 1\n",
    "            return 0\n",
    "        else:\n",
    "            # print(\"Gap is at the righmost position\")\n",
    "            return 1\n",
    "    \n",
    "    #-------------------------------------------------------------------\n",
    "    # Moves gap to the right extreme\n",
    "    #\n",
    "    # This calls the move_gap_right_by_one till it returns 1\n",
    "    #-------------------------------------------------------------------\n",
    "    def move_gap_to_right_extreme(self):\n",
    "        while self.move_gap_right_by_one() != 1:\n",
    "            pass\n",
    "    \n",
    "    #-------------------------------------------------------------------\n",
    "    # Moves gap to the left extreme\n",
    "    #\n",
    "    # This calls the move_left_by_one till it returns 1\n",
    "    #-------------------------------------------------------------------\n",
    "    def move_gap_to_left_extreme(self):\n",
    "        while self.move_gap_left_by_one() != 1:\n",
    "            pass\n",
    "    \n",
    "    #-------------------------------------------------------------------\n",
    "    # Checks if the gap is in the right extreme\n",
    "    #\n",
    "    # This checks the end of the buffer. If the buffer is ending with \n",
    "    # a gap, then the buffer is at the right extreme\n",
    "    #-------------------------------------------------------------------\n",
    "    def check_gap_is_right_extreme(self):\n",
    "        if self.content[len(self.content) - 1] == None:\n",
    "            return True\n",
    "        else:\n",
    "            return False\n",
    "    \n",
    "    #-------------------------------------------------------------------\n",
    "    # Checks if gap is in the left extreme\n",
    "    #\n",
    "    # This checks the start of the buffer. If the buffer is starting \n",
    "    # with a gap, then the buffer is at the left extreme\n",
    "    #-------------------------------------------------------------------\n",
    "    def check_gap_is_left_extreme(self):\n",
    "        if self.content[0] == None:\n",
    "            return True\n",
    "        else:\n",
    "            return False\n",
    "    \n",
    "    #-------------------------------------------------------------------\n",
    "    # Inserts a character before the buffer\n",
    "    #\n",
    "    # If the max size of the buffer is reached then it will start \n",
    "    # shrinking the gap starting from the leftmost position\n",
    "    #-------------------------------------------------------------------\n",
    "    def insert_character(self, char):\n",
    "        if self.current_buffer_size < self.limit:\n",
    "            if self.gap_size > 1:\n",
    "                if len(char) == 1:\n",
    "                    item_number_to_pop = self.gap_start\n",
    "                    self.content.pop(item_number_to_pop)\n",
    "                    self.content.insert(item_number_to_pop, char)\n",
    "                    \n",
    "                    self.content.insert(self.gap_end, None)\n",
    "                    \n",
    "                    self.gap_start = self.gap_start + 1\n",
    "                    self.gap_end = self.gap_end + 1\n",
    "                    self.current_buffer_size = self.current_buffer_size + 1\n",
    "                else:\n",
    "                    print(\"Only one character at a time\")\n",
    "            else:\n",
    "                print(\"No gap space availaible to edit\")\n",
    "        else:\n",
    "            if self.current_buffer_size == self.limit:\n",
    "                if self.gap_size > 1:\n",
    "                    if len(char) == 1:\n",
    "                        item_number_to_pop = self.gap_start\n",
    "                        self.content.pop(item_number_to_pop)\n",
    "                        self.content.insert(item_number_to_pop, char)\n",
    "                        \n",
    "                        self.gap_start = self.gap_start + 1\n",
    "                        self.gap_size = self.gap_size - 1\n",
    "                    else:\n",
    "                        print(\"Only one char at a time\")\n",
    "                else:\n",
    "                    print(\"No gap space availaibe\")\n",
    "    #-------------------------------------------------------------------\n",
    "    # Deletes a character before the buffer.\n",
    "    #\n",
    "    # This will retain the gap size of 11 in cases where max buffer\n",
    "    # size is not reached yet.\n",
    "    # In cases where gap size is less than 11, it will increase the gap\n",
    "    # size\n",
    "    #-------------------------------------------------------------------\n",
    "    def delete_character(self):\n",
    "        if self.gap_start != 0:\n",
    "            if self.gap_size == 11:\n",
    "                item_number_to_pop = self.gap_start - 1\n",
    "                self.content.pop(item_number_to_pop)\n",
    "                \n",
    "                self.gap_start = self.gap_start - 1\n",
    "                self.gap_end = self.gap_end - 1\n",
    "                self.current_buffer_size = self.current_buffer_size - 1\n",
    "            else:\n",
    "                if self.gap_size < 11:                    \n",
    "                    item_number_to_pop = self.gap_start - 1\n",
    "                    self.content.pop(item_number_to_pop)\n",
    "                    self.content.insert(item_number_to_pop, None)\n",
    "                    \n",
    "                    self.gap_start = self.gap_start - 1\n",
    "                    self.gap_size = self.gap_size + 1\n",
    "        else:\n",
    "            print(\"No character before.\")\n",
    "    \n",
    "    #-------------------------------------------------------------------\n",
    "    # Shows the text in the buffer as a string\n",
    "    #\n",
    "    # This removes all the gaps and joins all the character into\n",
    "    # a string. \n",
    "    #-------------------------------------------------------------------\n",
    "    def show_text_in_buffer(self):\n",
    "        text = self.content\n",
    "        del text[self.gap_start:self.gap_end]\n",
    "        s = \"\"\n",
    "        s = s.join(text)\n",
    "        # print(s)\n",
    "        return s"
   ]
  },
  {
   "cell_type": "code",
   "execution_count": 3,
   "id": "c629c0fe",
   "metadata": {},
   "outputs": [],
   "source": [
    "gb = gapbuffer(\"Hello\")"
   ]
  },
  {
   "cell_type": "code",
   "execution_count": 4,
   "id": "57a2fd46",
   "metadata": {},
   "outputs": [
    {
     "name": "stdout",
     "output_type": "stream",
     "text": [
      "[None, None, None, None, None, None, None, None, None, None, None, 'H', 'e', 'l', 'l', 'o']\n"
     ]
    }
   ],
   "source": [
    "gb.show_buffer()"
   ]
  },
  {
   "cell_type": "code",
   "execution_count": 5,
   "id": "ae24c09c",
   "metadata": {},
   "outputs": [
    {
     "name": "stdout",
     "output_type": "stream",
     "text": [
      "Gap Start: 0\n",
      "Gap End: 11\n",
      "Gap Size: 11\n",
      "Current Buffer size: 16\n"
     ]
    }
   ],
   "source": [
    "gb.show_buffer_information()"
   ]
  },
  {
   "cell_type": "code",
   "execution_count": 6,
   "id": "e4bdcf5c",
   "metadata": {},
   "outputs": [
    {
     "data": {
      "text/plain": [
       "0"
      ]
     },
     "execution_count": 6,
     "metadata": {},
     "output_type": "execute_result"
    }
   ],
   "source": [
    "gb.move_gap_right_by_one()"
   ]
  },
  {
   "cell_type": "code",
   "execution_count": 7,
   "id": "1c115c6b",
   "metadata": {},
   "outputs": [
    {
     "name": "stdout",
     "output_type": "stream",
     "text": [
      "['H', None, None, None, None, None, None, None, None, None, None, None, 'e', 'l', 'l', 'o']\n"
     ]
    }
   ],
   "source": [
    "gb.show_buffer()"
   ]
  },
  {
   "cell_type": "code",
   "execution_count": 8,
   "id": "40e22db6",
   "metadata": {},
   "outputs": [
    {
     "name": "stdout",
     "output_type": "stream",
     "text": [
      "['H', 'e', None, None, None, None, None, None, None, None, None, None, None, 'l', 'l', 'o']\n"
     ]
    }
   ],
   "source": [
    "gb.move_gap_right_by_one()\n",
    "gb.show_buffer()"
   ]
  },
  {
   "cell_type": "code",
   "execution_count": 9,
   "id": "4daa77a8",
   "metadata": {},
   "outputs": [
    {
     "name": "stdout",
     "output_type": "stream",
     "text": [
      "['H', 'e', 'l', 'l', 'o', None, None, None, None, None, None, None, None, None, None, None]\n"
     ]
    }
   ],
   "source": [
    "gb.move_gap_to_right_extreme()\n",
    "gb.show_buffer()"
   ]
  },
  {
   "cell_type": "code",
   "execution_count": 10,
   "id": "2b4ffc55",
   "metadata": {},
   "outputs": [
    {
     "name": "stdout",
     "output_type": "stream",
     "text": [
      "['H', 'e', 'l', 'l', None, None, None, None, None, None, None, None, None, None, None, 'o']\n"
     ]
    }
   ],
   "source": [
    "gb.move_gap_left_by_one()\n",
    "gb.show_buffer()"
   ]
  },
  {
   "cell_type": "code",
   "execution_count": 11,
   "id": "b3f23cdf",
   "metadata": {},
   "outputs": [
    {
     "name": "stdout",
     "output_type": "stream",
     "text": [
      "[None, None, None, None, None, None, None, None, None, None, None, 'H', 'e', 'l', 'l', 'o']\n"
     ]
    }
   ],
   "source": [
    "gb.move_gap_to_left_extreme()\n",
    "gb.show_buffer()"
   ]
  },
  {
   "cell_type": "code",
   "execution_count": 12,
   "id": "39c17730",
   "metadata": {},
   "outputs": [
    {
     "name": "stdout",
     "output_type": "stream",
     "text": [
      "['W', None, None, None, None, None, None, None, None, None, None, None, 'H', 'e', 'l', 'l', 'o']\n"
     ]
    }
   ],
   "source": [
    "gb.insert_character('W')\n",
    "gb.show_buffer()"
   ]
  },
  {
   "cell_type": "code",
   "execution_count": 13,
   "id": "6576f4d6",
   "metadata": {},
   "outputs": [
    {
     "name": "stdout",
     "output_type": "stream",
     "text": [
      "['W', 'o', 'r', 'l', 'd', None, None, None, None, None, None, None, None, None, None, None, 'H', 'e', 'l', 'l', 'o']\n"
     ]
    }
   ],
   "source": [
    "gb.insert_character('o')\n",
    "gb.insert_character('r')\n",
    "gb.insert_character('l')\n",
    "gb.insert_character('d')\n",
    "gb.show_buffer()"
   ]
  },
  {
   "cell_type": "code",
   "execution_count": 14,
   "id": "844b7f28",
   "metadata": {},
   "outputs": [
    {
     "name": "stdout",
     "output_type": "stream",
     "text": [
      "['W', 'o', 'r', 'l', None, None, None, None, None, None, None, None, None, None, None, 'H', 'e', 'l', 'l', 'o']\n"
     ]
    }
   ],
   "source": [
    "gb.delete_character()\n",
    "gb.show_buffer()"
   ]
  },
  {
   "cell_type": "code",
   "execution_count": 15,
   "id": "03ae2608",
   "metadata": {},
   "outputs": [
    {
     "name": "stdout",
     "output_type": "stream",
     "text": [
      "['W', 'o', 'r', None, None, None, None, None, None, None, None, None, None, None, 'H', 'e', 'l', 'l', 'o']\n"
     ]
    }
   ],
   "source": [
    "gb.delete_character()\n",
    "gb.show_buffer()"
   ]
  },
  {
   "cell_type": "code",
   "execution_count": null,
   "id": "2ad946c9",
   "metadata": {},
   "outputs": [],
   "source": []
  }
 ],
 "metadata": {
  "kernelspec": {
   "display_name": "Python 3",
   "language": "python",
   "name": "python3"
  },
  "language_info": {
   "codemirror_mode": {
    "name": "ipython",
    "version": 3
   },
   "file_extension": ".py",
   "mimetype": "text/x-python",
   "name": "python",
   "nbconvert_exporter": "python",
   "pygments_lexer": "ipython3",
   "version": "3.9.5"
  }
 },
 "nbformat": 4,
 "nbformat_minor": 5
}
