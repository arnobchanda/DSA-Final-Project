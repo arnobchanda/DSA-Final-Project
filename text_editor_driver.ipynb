{
 "cells": [
  {
   "cell_type": "code",
   "execution_count": 1,
   "id": "576762f9",
   "metadata": {},
   "outputs": [],
   "source": [
    "#-----------------------------------------------------------------------\n",
    "# Import dll_text_buffer and gap_buffer modules\n",
    "#-----------------------------------------------------------------------\n",
    "from dll_text_buffer import *\n",
    "from gap_buffer import *\n",
    "\n",
    "#-----------------------------------------------------------------------\n",
    "# Text editor class\n",
    "# \n",
    "# This is a high level class where you can initialize a text editor\n",
    "# move the cursor left or right, insert a character or delete a \n",
    "# character\n",
    "#-----------------------------------------------------------------------\n",
    "class text_editor:\n",
    "    def __init__(self):\n",
    "        self.text_buffer = buffer()\n",
    "        self.text_buffer.setup_buffer()\n",
    "    \n",
    "    #-------------------------------------------------------------------\n",
    "    # Takes the text from user and creates the proper dll nodes and \n",
    "    # creates the proper gap buffer\n",
    "    #-------------------------------------------------------------------\n",
    "    def add_text(self, text):\n",
    "        self.text_buffer.put_string_in_buffer(text)\n",
    "    \n",
    "    #-------------------------------------------------------------------\n",
    "    # Moves the cursor to the left by one.\n",
    "    # \n",
    "    # The cursor movement is based on the gap position.\n",
    "    # If the gap is at the leftmost position, the point node is\n",
    "    # switched to the left node.\n",
    "    #-------------------------------------------------------------------\n",
    "    def move_cursor_left(self):\n",
    "        if self.text_buffer.point_node.item.check_gap_is_left_extreme() is True:\n",
    "            self.text_buffer.move_point_node_left()\n",
    "        else:\n",
    "            self.text_buffer.point_node.item.move_gap_left_by_one()\n",
    "    \n",
    "    #-------------------------------------------------------------------\n",
    "    # Move the cursor to the right by one\n",
    "    # \n",
    "    # The cursor movement is based on the gap position.\n",
    "    # If the gap is at the rightmost position, the point node is\n",
    "    # switched to the right node.\n",
    "    #-------------------------------------------------------------------\n",
    "    def move_cursor_right(self):\n",
    "        if self.text_buffer.point_node.item.check_gap_is_right_extreme() is True:\n",
    "            self.text_buffer.move_point_node_right()\n",
    "        else:\n",
    "            self.text_buffer.point_node.item.move_gap_right_by_one()\n",
    "    \n",
    "    #-------------------------------------------------------------------\n",
    "    # Adds a character before the cursor posititon\n",
    "    #\n",
    "    # This is under the condition that the gap is more than 1 and the\n",
    "    # buffer is under the limit size\n",
    "    #-------------------------------------------------------------------\n",
    "    def insert_at_cursor(self, character):\n",
    "        self.text_buffer.point_node.item.insert_character(character)\n",
    "    \n",
    "    #-------------------------------------------------------------------\n",
    "    # Removes a character before the cursor\n",
    "    #\n",
    "    # This can only work if there is a non None character before\n",
    "    # the gap\n",
    "    #-------------------------------------------------------------------\n",
    "    def remove_at_cursor(self):\n",
    "        self.text_buffer.point_node.item.delete_character()\n",
    "    \n",
    "    #-------------------------------------------------------------------\n",
    "    # Prints the buffer by removing all the gaps and combining all\n",
    "    # the characters into a string\n",
    "    #-------------------------------------------------------------------\n",
    "    def print_final_buffer(self):\n",
    "        display = self.text_buffer\n",
    "        display.print_buffer_as_string()\n",
    "    \n",
    "    #-------------------------------------------------------------------\n",
    "    # Prints the buffer content including all the gaps.\n",
    "    #-------------------------------------------------------------------\n",
    "    def show_buffer(self):\n",
    "        self.text_buffer.show_buffer()"
   ]
  },
  {
   "cell_type": "code",
   "execution_count": 2,
   "id": "ddfe59b9",
   "metadata": {},
   "outputs": [],
   "source": [
    "editor = text_editor()\n",
    "editor.add_text(\"Hello this is a text\")"
   ]
  },
  {
   "cell_type": "code",
   "execution_count": 3,
   "id": "d4821eed",
   "metadata": {},
   "outputs": [
    {
     "name": "stdout",
     "output_type": "stream",
     "text": [
      "[None, None, None, None, None, None, None, None, None, None, None, 's', 't', 'a', 'r', 't', 'n', 'o', 'd', 'e']\n",
      "['H', 'e', 'l', 'l', 'o', None, None, None, None, None, None, None, None, None, None, None]\n",
      "['t', 'h', 'i', 's', None, None, None, None, None, None, None, None, None, None, None]\n",
      "['i', 's', None, None, None, None, None, None, None, None, None, None, None]\n",
      "['a', None, None, None, None, None, None, None, None, None, None, None]\n",
      "['t', 'e', 'x', 't', None, None, None, None, None, None, None, None, None, None, None]\n",
      "[None, None, None, None, None, None, None, None, None, None, None, 'e', 'n', 'd', 'n', 'o', 'd', 'e']\n"
     ]
    }
   ],
   "source": [
    "editor.show_buffer()"
   ]
  },
  {
   "cell_type": "code",
   "execution_count": 4,
   "id": "a4e3b7b9",
   "metadata": {},
   "outputs": [],
   "source": [
    "editor.move_cursor_left()\n",
    "editor.move_cursor_left()\n",
    "editor.move_cursor_left()\n",
    "editor.move_cursor_left()"
   ]
  },
  {
   "cell_type": "code",
   "execution_count": 5,
   "id": "b5567478",
   "metadata": {},
   "outputs": [
    {
     "name": "stdout",
     "output_type": "stream",
     "text": [
      "[None, None, None, None, None, None, None, None, None, None, None, 's', 't', 'a', 'r', 't', 'n', 'o', 'd', 'e']\n",
      "['H', 'e', 'l', 'l', 'o', None, None, None, None, None, None, None, None, None, None, None]\n",
      "['t', 'h', 'i', 's', None, None, None, None, None, None, None, None, None, None, None]\n",
      "['i', 's', None, None, None, None, None, None, None, None, None, None, None]\n",
      "['a', None, None, None, None, None, None, None, None, None, None, None]\n",
      "[None, None, None, None, None, None, None, None, None, None, None, 't', 'e', 'x', 't']\n",
      "[None, None, None, None, None, None, None, None, None, None, None, 'e', 'n', 'd', 'n', 'o', 'd', 'e']\n"
     ]
    }
   ],
   "source": [
    "editor.show_buffer()"
   ]
  },
  {
   "cell_type": "code",
   "execution_count": 6,
   "id": "cd2821a2",
   "metadata": {},
   "outputs": [
    {
     "name": "stdout",
     "output_type": "stream",
     "text": [
      "[None, None, None, None, None, None, None, None, None, None, None, 's', 't', 'a', 'r', 't', 'n', 'o', 'd', 'e']\n",
      "['H', 'e', 'l', 'l', 'o', None, None, None, None, None, None, None, None, None, None, None]\n",
      "['t', 'h', 'i', 's', None, None, None, None, None, None, None, None, None, None, None]\n",
      "['i', 's', None, None, None, None, None, None, None, None, None, None, None]\n",
      "['a', None, None, None, None, None, None, None, None, None, None, None]\n",
      "['m', None, None, None, None, None, None, None, None, None, None, None, 't', 'e', 'x', 't']\n",
      "[None, None, None, None, None, None, None, None, None, None, None, 'e', 'n', 'd', 'n', 'o', 'd', 'e']\n"
     ]
    }
   ],
   "source": [
    "editor.insert_at_cursor(\"m\")\n",
    "editor.show_buffer()"
   ]
  },
  {
   "cell_type": "code",
   "execution_count": 7,
   "id": "32d0c85d",
   "metadata": {},
   "outputs": [
    {
     "name": "stdout",
     "output_type": "stream",
     "text": [
      "[None, None, None, None, None, None, None, None, None, None, None, 's', 't', 'a', 'r', 't', 'n', 'o', 'd', 'e']\n",
      "['H', 'e', 'l', 'l', 'o', None, None, None, None, None, None, None, None, None, None, None]\n",
      "['t', 'h', 'i', 's', None, None, None, None, None, None, None, None, None, None, None]\n",
      "['i', 's', None, None, None, None, None, None, None, None, None, None, None]\n",
      "['a', None, None, None, None, None, None, None, None, None, None, None]\n",
      "['m', 't', 'e', None, None, None, None, None, None, None, None, None, None, None, 'x', 't']\n",
      "[None, None, None, None, None, None, None, None, None, None, None, 'e', 'n', 'd', 'n', 'o', 'd', 'e']\n"
     ]
    }
   ],
   "source": [
    "editor.move_cursor_right()\n",
    "editor.move_cursor_right()\n",
    "editor.show_buffer()"
   ]
  },
  {
   "cell_type": "code",
   "execution_count": 8,
   "id": "b93c8c67",
   "metadata": {},
   "outputs": [
    {
     "name": "stdout",
     "output_type": "stream",
     "text": [
      "[None, None, None, None, None, None, None, None, None, None, None, 's', 't', 'a', 'r', 't', 'n', 'o', 'd', 'e']\n",
      "['H', 'e', 'l', 'l', 'o', None, None, None, None, None, None, None, None, None, None, None]\n",
      "['t', 'h', 'i', 's', None, None, None, None, None, None, None, None, None, None, None]\n",
      "['i', 's', None, None, None, None, None, None, None, None, None, None, None]\n",
      "['a', None, None, None, None, None, None, None, None, None, None, None]\n",
      "['m', None, None, None, None, None, None, None, None, None, None, None, 'x', 't']\n",
      "[None, None, None, None, None, None, None, None, None, None, None, 'e', 'n', 'd', 'n', 'o', 'd', 'e']\n"
     ]
    }
   ],
   "source": [
    "editor.remove_at_cursor()\n",
    "editor.remove_at_cursor()\n",
    "editor.show_buffer()"
   ]
  },
  {
   "cell_type": "code",
   "execution_count": 9,
   "id": "f9e25bc0",
   "metadata": {},
   "outputs": [
    {
     "name": "stdout",
     "output_type": "stream",
     "text": [
      "[None, None, None, None, None, None, None, None, None, None, None, 's', 't', 'a', 'r', 't', 'n', 'o', 'd', 'e']\n",
      "['H', 'e', 'l', 'l', 'o', None, None, None, None, None, None, None, None, None, None, None]\n",
      "['t', 'h', 'i', 's', None, None, None, None, None, None, None, None, None, None, None]\n",
      "['i', 's', None, None, None, None, None, None, None, None, None, None, None]\n",
      "['a', 'n', None, None, None, None, None, None, None, None, None, None, None]\n",
      "[None, None, None, None, None, None, None, None, None, None, None, 'm', 'x', 't']\n",
      "[None, None, None, None, None, None, None, None, None, None, None, 'e', 'n', 'd', 'n', 'o', 'd', 'e']\n"
     ]
    }
   ],
   "source": [
    "editor.move_cursor_left()\n",
    "editor.move_cursor_left()\n",
    "editor.insert_at_cursor('n')\n",
    "editor.show_buffer()"
   ]
  },
  {
   "cell_type": "code",
   "execution_count": 10,
   "id": "3da20a02",
   "metadata": {},
   "outputs": [
    {
     "name": "stdout",
     "output_type": "stream",
     "text": [
      "Hello this is an mxt\n"
     ]
    }
   ],
   "source": [
    "editor.print_final_buffer()"
   ]
  },
  {
   "cell_type": "code",
   "execution_count": null,
   "id": "557a2cff",
   "metadata": {},
   "outputs": [],
   "source": []
  }
 ],
 "metadata": {
  "kernelspec": {
   "display_name": "Python 3",
   "language": "python",
   "name": "python3"
  },
  "language_info": {
   "codemirror_mode": {
    "name": "ipython",
    "version": 3
   },
   "file_extension": ".py",
   "mimetype": "text/x-python",
   "name": "python",
   "nbconvert_exporter": "python",
   "pygments_lexer": "ipython3",
   "version": "3.9.5"
  }
 },
 "nbformat": 4,
 "nbformat_minor": 5
}
