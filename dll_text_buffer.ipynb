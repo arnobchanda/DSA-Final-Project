{
 "cells": [
  {
   "cell_type": "code",
   "execution_count": 1,
   "id": "27466aca",
   "metadata": {},
   "outputs": [],
   "source": [
    "#-----------------------------------------------------------------------\n",
    "# Import the gap_buffer module\n",
    "#-----------------------------------------------------------------------\n",
    "from gap_buffer import *\n",
    "\n",
    "#-----------------------------------------------------------------------\n",
    "# Doubly linked list class\n",
    "#\n",
    "# The item in the dll class is of type gapbuffer class\n",
    "#-----------------------------------------------------------------------\n",
    "class dll_node:\n",
    "    def __init__(self,data):\n",
    "            self.item = gapbuffer(data)\n",
    "            self.prev = None\n",
    "            self.next = None\n",
    "            \n",
    "#-----------------------------------------------------------------------\n",
    "# Buffer class\n",
    "# \n",
    "# Buffer is initialized with a start node, a point node and a end node\n",
    "# \n",
    "#  --------------        --------------------        --------------\n",
    "# | x | x | next | <--> | prev | item | next | <--> | prev | x | x |\n",
    "#  --------------         -------------------        --------------\n",
    "#       ^                         ^                          ^\n",
    "#       |                         |                          |\n",
    "#    start node               Point node                  end node\n",
    "#\n",
    "# The point node is on which word the cursor is at.\n",
    "# With each additional word in the string and additional node is \n",
    "# added between the point node and the end node\n",
    "# \n",
    "# We ignore the data in the start node and the end node\n",
    "#-----------------------------------------------------------------------\n",
    "class buffer:\n",
    "    def __init__(self):\n",
    "        self.start_node = None\n",
    "        self.end_node = None\n",
    "        self.point_node = None\n",
    "        self.no_of_nodes = 0\n",
    "        self.point_node_location = 0\n",
    "    \n",
    "    #-------------------------------------------------------------------\n",
    "    # Sets up the buffer with 3 dll nodes\n",
    "    #\n",
    "    # we add dummy data in each of the nodes for initialization\n",
    "    # The point node data will be updated when the user enters the \n",
    "    # actual string to be stored\n",
    "    #-------------------------------------------------------------------\n",
    "    def setup_buffer(self):\n",
    "        start_node = dll_node(\"startnode\")\n",
    "        point_node = dll_node(\"init\")\n",
    "        end_node = dll_node(\"endnode\")\n",
    "        \n",
    "        start_node.prev = None\n",
    "        start_node.next = point_node\n",
    "        \n",
    "        point_node.prev = start_node\n",
    "        point_node.next = end_node\n",
    "        \n",
    "        end_node.prev = point_node\n",
    "        end_node.next = None\n",
    "        \n",
    "        self.start_node = start_node\n",
    "        self.point_node = point_node\n",
    "        self.end_node = end_node\n",
    "        self.no_of_nodes = 3\n",
    "        self.point_node_location = 2\n",
    "    \n",
    "    #-------------------------------------------------------------------\n",
    "    # Adds an additional node just before the end node\n",
    "    # \n",
    "    # This is used mainly to add the user data after initialization\n",
    "    # is done\n",
    "    #-------------------------------------------------------------------\n",
    "    def add_node_before_end_node(self, data):\n",
    "        if self.point_node is None:\n",
    "            print(\"Buffer not initialized properly. Run setup buffer and then call this function\")\n",
    "        else:\n",
    "            next_point_node = dll_node(data)\n",
    "            self.point_node.next = next_point_node\n",
    "            next_point_node.prev = self.point_node\n",
    "            \n",
    "            next_point_node.next = self.end_node\n",
    "            self.end_node.prev = next_point_node\n",
    "            \n",
    "            self.point_node = next_point_node\n",
    "            self.no_of_nodes = self.no_of_nodes + 1\n",
    "            self.point_node_location = self.point_node_location + 1 \n",
    "    \n",
    "    #-------------------------------------------------------------------\n",
    "    # Takes the user string, converts it into nodes\n",
    "    #\n",
    "    # This takes in the user string, splits it from spaces\n",
    "    # and then makes each word into a gapbuffer object saved in the\n",
    "    # item variable and links each word properly\n",
    "    #-------------------------------------------------------------------\n",
    "    def put_string_in_buffer(self, text_string):\n",
    "        list_of_words=text_string.split(\" \")\n",
    "        \n",
    "        self.point_node.item = gapbuffer(list_of_words[0])\n",
    "        self.point_node.item.move_gap_to_right_extreme()\n",
    "        \n",
    "        for word in range(1, len(list_of_words)):\n",
    "            self.add_node_before_end_node(list_of_words[word])\n",
    "            self.point_node.item.move_gap_to_right_extreme()\n",
    "    \n",
    "    #-------------------------------------------------------------------\n",
    "    # This will move the point node left by one\n",
    "    #-------------------------------------------------------------------\n",
    "    def move_point_node_left(self):\n",
    "        if self.point_node_location > 1:    \n",
    "            self.point_node.item.move_gap_to_left_extreme()\n",
    "            self.point_node = self.point_node.prev\n",
    "            \n",
    "            self.point_node_location = self.point_node_location - 1\n",
    "        else:\n",
    "            print(\"At the leftmost data node\")\n",
    "    \n",
    "    #-------------------------------------------------------------------\n",
    "    # This will move the point node right by one\n",
    "    #-------------------------------------------------------------------\n",
    "    def move_point_node_right(self):\n",
    "        if self.point_node_location < self.no_of_nodes - 1:\n",
    "            self.point_node.item.move_gap_to_right_extreme()\n",
    "            self.point_node = self.point_node.next\n",
    "            \n",
    "            self.point_node_location = self.point_node_location + 1\n",
    "        else:\n",
    "            print(\"At the rightmost data node\")\n",
    "            \n",
    "    #-------------------------------------------------------------------\n",
    "    # This takes the gapbuffer object in the item variable of each node\n",
    "    # removes the gaps and returns the actual text\n",
    "    #\n",
    "    # Must be used only once at the end as it changes the buffer \n",
    "    # contents itself\n",
    "    #-------------------------------------------------------------------\n",
    "    def print_buffer_as_string(self):\n",
    "        text = []\n",
    "        start_node = self.start_node.next\n",
    "        for n in range(self.no_of_nodes - 2):\n",
    "            text.append(start_node.item.show_text_in_buffer())\n",
    "            start_node = start_node.next\n",
    "        \n",
    "        sep = \" \"\n",
    "        sep = sep.join(text)\n",
    "        print(sep)\n",
    "    \n",
    "    #-------------------------------------------------------------------\n",
    "    # This prints out all the item variable in each node sequentially\n",
    "    #-------------------------------------------------------------------\n",
    "    def show_buffer(self):\n",
    "        point_node = self.start_node\n",
    "        data = []\n",
    "        for i in range(self.no_of_nodes):\n",
    "            data.append(point_node.item.content)\n",
    "            point_node = point_node.next\n",
    "        print(*data, sep= \"\\n\")\n",
    "    \n",
    "    #-------------------------------------------------------------------\n",
    "    # This shows the buffer information\n",
    "    # i.e. the total number of nodes and the point node location\n",
    "    #-------------------------------------------------------------------\n",
    "    def show_buffer_info(self):\n",
    "        print(\"No of Nodes: {}\".format(self.no_of_nodes))\n",
    "        print(\"Point node location: {}\".format(self.point_node_location))\n",
    "    "
   ]
  },
  {
   "cell_type": "code",
   "execution_count": 2,
   "id": "193b0f64",
   "metadata": {},
   "outputs": [],
   "source": [
    "text_buffer = buffer()"
   ]
  },
  {
   "cell_type": "code",
   "execution_count": 3,
   "id": "8638454a",
   "metadata": {},
   "outputs": [],
   "source": [
    "text_buffer.setup_buffer()"
   ]
  },
  {
   "cell_type": "code",
   "execution_count": 4,
   "id": "3d2ccd85",
   "metadata": {},
   "outputs": [],
   "source": [
    "text_buffer.put_string_in_buffer(\"This is a string\")"
   ]
  },
  {
   "cell_type": "code",
   "execution_count": 5,
   "id": "53a2516c",
   "metadata": {},
   "outputs": [
    {
     "name": "stdout",
     "output_type": "stream",
     "text": [
      "[None, None, None, None, None, None, None, None, None, None, None, 's', 't', 'a', 'r', 't', 'n', 'o', 'd', 'e']\n",
      "['T', 'h', 'i', 's', None, None, None, None, None, None, None, None, None, None, None]\n",
      "['i', 's', None, None, None, None, None, None, None, None, None, None, None]\n",
      "['a', None, None, None, None, None, None, None, None, None, None, None]\n",
      "['s', 't', 'r', 'i', 'n', 'g', None, None, None, None, None, None, None, None, None, None, None]\n",
      "[None, None, None, None, None, None, None, None, None, None, None, 'e', 'n', 'd', 'n', 'o', 'd', 'e']\n"
     ]
    }
   ],
   "source": [
    "text_buffer.show_buffer()"
   ]
  },
  {
   "cell_type": "code",
   "execution_count": 6,
   "id": "c85af760",
   "metadata": {},
   "outputs": [
    {
     "name": "stdout",
     "output_type": "stream",
     "text": [
      "No of Nodes: 6\n",
      "Point node location: 5\n"
     ]
    }
   ],
   "source": [
    "text_buffer.show_buffer_info()"
   ]
  },
  {
   "cell_type": "code",
   "execution_count": 7,
   "id": "ee1bd645",
   "metadata": {},
   "outputs": [
    {
     "name": "stdout",
     "output_type": "stream",
     "text": [
      "No of Nodes: 6\n",
      "Point node location: 4\n"
     ]
    }
   ],
   "source": [
    "text_buffer.move_point_node_left()\n",
    "text_buffer.show_buffer_info()"
   ]
  },
  {
   "cell_type": "code",
   "execution_count": 8,
   "id": "4550f5fc",
   "metadata": {},
   "outputs": [
    {
     "name": "stdout",
     "output_type": "stream",
     "text": [
      "No of Nodes: 6\n",
      "Point node location: 5\n"
     ]
    }
   ],
   "source": [
    "text_buffer.move_point_node_right()\n",
    "text_buffer.show_buffer_info()"
   ]
  },
  {
   "cell_type": "code",
   "execution_count": null,
   "id": "70af74b3",
   "metadata": {},
   "outputs": [],
   "source": []
  }
 ],
 "metadata": {
  "kernelspec": {
   "display_name": "Python 3",
   "language": "python",
   "name": "python3"
  },
  "language_info": {
   "codemirror_mode": {
    "name": "ipython",
    "version": 3
   },
   "file_extension": ".py",
   "mimetype": "text/x-python",
   "name": "python",
   "nbconvert_exporter": "python",
   "pygments_lexer": "ipython3",
   "version": "3.9.5"
  }
 },
 "nbformat": 4,
 "nbformat_minor": 5
}
